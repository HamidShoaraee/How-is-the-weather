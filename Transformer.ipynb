{
 "cells": [
  {
   "cell_type": "markdown",
   "source": [
    "# In  this notebook we want to get raw data from Meteorological Service of Canada (MSC) and tranform this data for creating interactive reports and dashboards in Powr BI. This project is an introduction to how turn a rew data to the interactive visualizaion with help of Power BI and visualizaion libraries like Matplotlib and Pandas  "
   ],
   "metadata": {}
  },
  {
   "cell_type": "code",
   "execution_count": 2,
   "source": [
    "import pandas as pd \r\n",
    "import matplotlib.pyplot as plt \r\n",
    "df = pd.read_csv(\"climate_station_list.csv\")\r\n",
    "df"
   ],
   "outputs": [
    {
     "output_type": "execute_result",
     "data": {
      "text/html": [
       "<div>\n",
       "<style scoped>\n",
       "    .dataframe tbody tr th:only-of-type {\n",
       "        vertical-align: middle;\n",
       "    }\n",
       "\n",
       "    .dataframe tbody tr th {\n",
       "        vertical-align: top;\n",
       "    }\n",
       "\n",
       "    .dataframe thead th {\n",
       "        text-align: right;\n",
       "    }\n",
       "</style>\n",
       "<table border=\"1\" class=\"dataframe\">\n",
       "  <thead>\n",
       "    <tr style=\"text-align: right;\">\n",
       "      <th></th>\n",
       "      <th>Station Name</th>\n",
       "      <th>Province</th>\n",
       "      <th>Latitude</th>\n",
       "      <th>Longitude</th>\n",
       "    </tr>\n",
       "  </thead>\n",
       "  <tbody>\n",
       "    <tr>\n",
       "      <th>0</th>\n",
       "      <td>(AE) BOW SUMMIT</td>\n",
       "      <td>ALBERTA</td>\n",
       "      <td>51.70</td>\n",
       "      <td>-116.47</td>\n",
       "    </tr>\n",
       "    <tr>\n",
       "      <th>1</th>\n",
       "      <td>100 MILE HOUSE</td>\n",
       "      <td>BRITISH COLUMBIA</td>\n",
       "      <td>51.65</td>\n",
       "      <td>-121.30</td>\n",
       "    </tr>\n",
       "    <tr>\n",
       "      <th>2</th>\n",
       "      <td>100 MILE HOUSE</td>\n",
       "      <td>BRITISH COLUMBIA</td>\n",
       "      <td>51.65</td>\n",
       "      <td>-121.27</td>\n",
       "    </tr>\n",
       "    <tr>\n",
       "      <th>3</th>\n",
       "      <td>100 MILE HOUSE 6NE</td>\n",
       "      <td>BRITISH COLUMBIA</td>\n",
       "      <td>51.68</td>\n",
       "      <td>-121.22</td>\n",
       "    </tr>\n",
       "    <tr>\n",
       "      <th>4</th>\n",
       "      <td>108 MILE HOUSE</td>\n",
       "      <td>BRITISH COLUMBIA</td>\n",
       "      <td>51.75</td>\n",
       "      <td>-121.33</td>\n",
       "    </tr>\n",
       "    <tr>\n",
       "      <th>...</th>\n",
       "      <td>...</td>\n",
       "      <td>...</td>\n",
       "      <td>...</td>\n",
       "      <td>...</td>\n",
       "    </tr>\n",
       "    <tr>\n",
       "      <th>8442</th>\n",
       "      <td>ZEBALLOS MURAUDE CREEK</td>\n",
       "      <td>BRITISH COLUMBIA</td>\n",
       "      <td>50.05</td>\n",
       "      <td>-126.78</td>\n",
       "    </tr>\n",
       "    <tr>\n",
       "      <th>8443</th>\n",
       "      <td>ZEHNER</td>\n",
       "      <td>SASKATCHEWAN</td>\n",
       "      <td>50.63</td>\n",
       "      <td>-104.40</td>\n",
       "    </tr>\n",
       "    <tr>\n",
       "      <th>8444</th>\n",
       "      <td>ZELMA</td>\n",
       "      <td>SASKATCHEWAN</td>\n",
       "      <td>51.80</td>\n",
       "      <td>-105.93</td>\n",
       "    </tr>\n",
       "    <tr>\n",
       "      <th>8445</th>\n",
       "      <td>ZHODA</td>\n",
       "      <td>MANITOBA</td>\n",
       "      <td>49.25</td>\n",
       "      <td>-96.52</td>\n",
       "    </tr>\n",
       "    <tr>\n",
       "      <th>8446</th>\n",
       "      <td>ZURICH</td>\n",
       "      <td>ONTARIO</td>\n",
       "      <td>43.40</td>\n",
       "      <td>-81.60</td>\n",
       "    </tr>\n",
       "  </tbody>\n",
       "</table>\n",
       "<p>8447 rows × 4 columns</p>\n",
       "</div>"
      ],
      "text/plain": [
       "                Station Name          Province  Latitude  Longitude\n",
       "0            (AE) BOW SUMMIT           ALBERTA     51.70    -116.47\n",
       "1             100 MILE HOUSE  BRITISH COLUMBIA     51.65    -121.30\n",
       "2             100 MILE HOUSE  BRITISH COLUMBIA     51.65    -121.27\n",
       "3         100 MILE HOUSE 6NE  BRITISH COLUMBIA     51.68    -121.22\n",
       "4             108 MILE HOUSE  BRITISH COLUMBIA     51.75    -121.33\n",
       "...                      ...               ...       ...        ...\n",
       "8442  ZEBALLOS MURAUDE CREEK  BRITISH COLUMBIA     50.05    -126.78\n",
       "8443                  ZEHNER      SASKATCHEWAN     50.63    -104.40\n",
       "8444                   ZELMA      SASKATCHEWAN     51.80    -105.93\n",
       "8445                   ZHODA          MANITOBA     49.25     -96.52\n",
       "8446                  ZURICH           ONTARIO     43.40     -81.60\n",
       "\n",
       "[8447 rows x 4 columns]"
      ]
     },
     "metadata": {},
     "execution_count": 2
    }
   ],
   "metadata": {}
  },
  {
   "cell_type": "code",
   "execution_count": 3,
   "source": [
    "#which province has a station \r\n",
    "province = df[\"Province\"].values.ravel()\r\n",
    "province_uniq = pd.unique(province)\r\n",
    "province_uniq"
   ],
   "outputs": [
    {
     "output_type": "execute_result",
     "data": {
      "text/plain": [
       "array(['ALBERTA', 'BRITISH COLUMBIA', 'NEWFOUNDLAND', 'SASKATCHEWAN',\n",
       "       'QUEBEC', 'NOVA SCOTIA', 'ONTARIO', 'NEW BRUNSWICK',\n",
       "       'YUKON TERRITORY', 'NORTHWEST TERRITORIES', 'PRINCE EDWARD ISLAND',\n",
       "       'NUNAVUT', 'MANITOBA'], dtype=object)"
      ]
     },
     "metadata": {},
     "execution_count": 3
    }
   ],
   "metadata": {}
  },
  {
   "cell_type": "code",
   "execution_count": 5,
   "source": [
    "# Number of stations in each province \r\n",
    "number_station = df['Province'].value_counts()\r\n",
    "number_station"
   ],
   "outputs": [
    {
     "output_type": "execute_result",
     "data": {
      "text/plain": [
       "BRITISH COLUMBIA         1735\n",
       "ONTARIO                  1550\n",
       "ALBERTA                  1458\n",
       "QUEBEC                   1017\n",
       "SASKATCHEWAN              723\n",
       "MANITOBA                  571\n",
       "NEWFOUNDLAND              317\n",
       "NOVA SCOTIA               306\n",
       "NEW BRUNSWICK             226\n",
       "NUNAVUT                   186\n",
       "NORTHWEST TERRITORIES     163\n",
       "YUKON TERRITORY           140\n",
       "PRINCE EDWARD ISLAND       55\n",
       "Name: Province, dtype: int64"
      ]
     },
     "metadata": {},
     "execution_count": 5
    }
   ],
   "metadata": {}
  },
  {
   "cell_type": "code",
   "execution_count": 16,
   "source": [
    "number_station.to_csv('station_summery.csv')"
   ],
   "outputs": [],
   "metadata": {}
  },
  {
   "cell_type": "code",
   "execution_count": null,
   "source": [],
   "outputs": [],
   "metadata": {}
  }
 ],
 "metadata": {
  "orig_nbformat": 4,
  "language_info": {
   "name": "python",
   "version": "3.7.7",
   "mimetype": "text/x-python",
   "codemirror_mode": {
    "name": "ipython",
    "version": 3
   },
   "pygments_lexer": "ipython3",
   "nbconvert_exporter": "python",
   "file_extension": ".py"
  },
  "kernelspec": {
   "name": "python3",
   "display_name": "Python 3.7.7 64-bit"
  },
  "interpreter": {
   "hash": "5b47e31f3fd05274d9b75e6f011f0644460bd6e0d2c72c4124efc5ca04b869ea"
  }
 },
 "nbformat": 4,
 "nbformat_minor": 2
}